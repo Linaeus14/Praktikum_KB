{
 "cells": [
  {
   "cell_type": "markdown",
   "id": "6529cda8-f9b5-4fa0-870c-7b329633c92a",
   "metadata": {},
   "source": [
    "# POSTTEST4"
   ]
  },
  {
   "cell_type": "markdown",
   "id": "5fda21ab-8c29-4714-ad2a-c8688053a398",
   "metadata": {},
   "source": [
    "><p> Nama : Tito Darmawan <br> NIM : 2109106042 <br> Dataset : </p>"
   ]
  },
  {
   "cell_type": "markdown",
   "id": "f1ba556c-7096-4bd1-9a20-132b19267d90",
   "metadata": {},
   "source": [
    "[Goodreads-books](https://www.kaggle.com/datasets/jealousleopard/goodreadsbooks)"
   ]
  },
  {
   "cell_type": "markdown",
   "id": "32186844-ffea-4763-882c-a37385e932e0",
   "metadata": {},
   "source": [
    "## Import"
   ]
  },
  {
   "cell_type": "code",
   "execution_count": 270,
   "id": "8e380002-367d-4a19-a2ff-15a4d6606852",
   "metadata": {},
   "outputs": [
    {
     "name": "stdout",
     "output_type": "stream",
     "text": [
      "<class 'pandas.core.frame.DataFrame'>\n",
      "RangeIndex: 11123 entries, 0 to 11122\n",
      "Data columns (total 12 columns):\n",
      " #   Column              Non-Null Count  Dtype  \n",
      "---  ------              --------------  -----  \n",
      " 0   bookID              11123 non-null  int64  \n",
      " 1   title               11123 non-null  object \n",
      " 2   authors             11123 non-null  object \n",
      " 3   average_rating      11123 non-null  float64\n",
      " 4   isbn                11123 non-null  object \n",
      " 5   isbn13              11123 non-null  int64  \n",
      " 6   language_code       11123 non-null  object \n",
      " 7     num_pages         11123 non-null  int64  \n",
      " 8   ratings_count       11123 non-null  int64  \n",
      " 9   text_reviews_count  11123 non-null  int64  \n",
      " 10  publication_date    11123 non-null  object \n",
      " 11  publisher           11123 non-null  object \n",
      "dtypes: float64(1), int64(5), object(6)\n",
      "memory usage: 1.0+ MB\n"
     ]
    }
   ],
   "source": [
    "import numpy as np\n",
    "import pandas as pd\n",
    "\n",
    "dfawal = pd.read_csv(\n",
    "    \"books.csv\", \n",
    "    on_bad_lines=\"skip\"\n",
    ")\n",
    "\n",
    "dfawal.info()"
   ]
  },
  {
   "cell_type": "markdown",
   "id": "7df26ebd-c1e0-4d39-b0ca-c67646131ba0",
   "metadata": {},
   "source": [
    "## Bagi ke dua Variabel X dan Y"
   ]
  },
  {
   "cell_type": "code",
   "execution_count": 218,
   "id": "98842207-f1c8-4798-a5bc-35bdc47213d2",
   "metadata": {},
   "outputs": [
    {
     "name": "stdout",
     "output_type": "stream",
     "text": [
      "Pembagian Dataset : \n",
      "\n",
      "Dimensi X_train (7786, 11)\n",
      "Dimensi X_test (3337, 11)\n",
      "Dimensi y_train (7786,)\n",
      "Dimensi y_test (3337,)\n"
     ]
    }
   ],
   "source": [
    "from sklearn.model_selection import train_test_split\n",
    "\n",
    "X = dfawal.iloc[:, : -1]\n",
    "y = dfawal.iloc[:, -1]\n",
    "\n",
    "X_train, X_test, y_train, y_test = train_test_split(X, y, test_size=0.3)\n",
    "\n",
    "print(\"Pembagian Dataset : \\n\")\n",
    "print(\"Dimensi X_train\", X_train.shape)\n",
    "print(\"Dimensi X_test\", X_test.shape)\n",
    "print(\"Dimensi y_train\", y_train.shape)\n",
    "print(\"Dimensi y_test\", y_test.shape)"
   ]
  },
  {
   "cell_type": "markdown",
   "id": "e4868cf8-ba1f-4c67-88cb-89731ea77a23",
   "metadata": {},
   "source": [
    "## Data Transforming <br>\n",
    "### Normalisasi\n",
    "> <b> Menormalisasikan jumlah review buku\n",
    "      Perbandingan dapat di lihat pada \"text_reviews_count\" untuk sebelum dan \"count_norm\" untuk sesudah"
   ]
  },
  {
   "cell_type": "code",
   "execution_count": 118,
   "id": "ebee7eb2-e9d4-4c2a-beea-cd57b8c4c140",
   "metadata": {},
   "outputs": [
    {
     "name": "stdout",
     "output_type": "stream",
     "text": [
      "Perbandingan sebelum dan sesudah normalisasi : \n"
     ]
    },
    {
     "data": {
      "text/html": [
       "<div>\n",
       "<style scoped>\n",
       "    .dataframe tbody tr th:only-of-type {\n",
       "        vertical-align: middle;\n",
       "    }\n",
       "\n",
       "    .dataframe tbody tr th {\n",
       "        vertical-align: top;\n",
       "    }\n",
       "\n",
       "    .dataframe thead th {\n",
       "        text-align: right;\n",
       "    }\n",
       "</style>\n",
       "<table border=\"1\" class=\"dataframe\">\n",
       "  <thead>\n",
       "    <tr style=\"text-align: right;\">\n",
       "      <th></th>\n",
       "      <th>text_reviews_count</th>\n",
       "      <th>count_norm</th>\n",
       "    </tr>\n",
       "  </thead>\n",
       "  <tbody>\n",
       "    <tr>\n",
       "      <th>0</th>\n",
       "      <td>27591</td>\n",
       "      <td>0.292696</td>\n",
       "    </tr>\n",
       "    <tr>\n",
       "      <th>1</th>\n",
       "      <td>29221</td>\n",
       "      <td>0.309988</td>\n",
       "    </tr>\n",
       "    <tr>\n",
       "      <th>2</th>\n",
       "      <td>244</td>\n",
       "      <td>0.002588</td>\n",
       "    </tr>\n",
       "    <tr>\n",
       "      <th>3</th>\n",
       "      <td>36325</td>\n",
       "      <td>0.385350</td>\n",
       "    </tr>\n",
       "    <tr>\n",
       "      <th>4</th>\n",
       "      <td>164</td>\n",
       "      <td>0.001740</td>\n",
       "    </tr>\n",
       "  </tbody>\n",
       "</table>\n",
       "</div>"
      ],
      "text/plain": [
       "   text_reviews_count  count_norm\n",
       "0               27591    0.292696\n",
       "1               29221    0.309988\n",
       "2                 244    0.002588\n",
       "3               36325    0.385350\n",
       "4                 164    0.001740"
      ]
     },
     "execution_count": 118,
     "metadata": {},
     "output_type": "execute_result"
    }
   ],
   "source": [
    "from sklearn.preprocessing import MinMaxScaler\n",
    "\n",
    "data_show = dfawal[[\"text_reviews_count\"]]\n",
    "data_show.columns = [\"text_reviews_count\"]\n",
    "\n",
    "mms = MinMaxScaler()\n",
    "arrN = mms.fit_transform(data_show[[\"text_reviews_count\"]])\n",
    "dfN = pd.DataFrame(arrN)\n",
    "dfN.columns =[\"count_norm\"]\n",
    "\n",
    "data_show = data_show.join(dfN[\"count_norm\"]).reset_index()\n",
    "data_show = data_show.drop(\"index\", axis=1)\n",
    "\n",
    "print(\"Perbandingan sebelum dan sesudah normalisasi : \")\n",
    "data_show.head()"
   ]
  },
  {
   "cell_type": "markdown",
   "id": "06297c71-f5f8-4b63-a761-c74f2566093d",
   "metadata": {},
   "source": [
    "### Standarisasi\n",
    "> <b> Menstandarisasikan semua atribut numeric,\n",
    "      Perbandingan dapat di lihat di bawah"
   ]
  },
  {
   "cell_type": "code",
   "execution_count": 181,
   "id": "fa68fdc8-1102-4eaa-b7e4-d83dcaef6c1c",
   "metadata": {},
   "outputs": [
    {
     "name": "stdout",
     "output_type": "stream",
     "text": [
      "Perbandingan standar devirasi sebelum dan sesudah : \n"
     ]
    },
    {
     "data": {
      "text/plain": [
       "bookID                1.309414e+04\n",
       "average_rating        3.504696e-01\n",
       "isbn13                4.429559e+11\n",
       "  num_pages           2.411418e+02\n",
       "ratings_count         1.124941e+05\n",
       "text_reviews_count    2.576504e+03\n",
       "dtype: float64"
      ]
     },
     "execution_count": 181,
     "metadata": {},
     "output_type": "execute_result"
    }
   ],
   "source": [
    "from sklearn.preprocessing import StandardScaler\n",
    "\n",
    "data_show2 = dfawal.select_dtypes(include='number')\n",
    "\n",
    "ss = StandardScaler()\n",
    "arrS = ss.fit_transform(data_show2)\n",
    "dfS = pd.DataFrame(arrS)\n",
    "dfS.columns = [\"bookID_stand\", \"average_rating_stand\", \"isbn13_stand\", \"num_pages_stand\", \"ratings_count_stand\", \"text_reviews_coun_stand\"]\n",
    "\n",
    "print(\"Perbandingan standar devirasi sebelum dan sesudah : \")\n",
    "np.std(data_show2)"
   ]
  },
  {
   "cell_type": "code",
   "execution_count": 182,
   "id": "9f52ea34-69a6-493e-8811-7d7fa7e79417",
   "metadata": {},
   "outputs": [
    {
     "data": {
      "text/plain": [
       "bookID_stand               1.0\n",
       "average_rating_stand       1.0\n",
       "isbn13_stand               1.0\n",
       "num_pages_stand            1.0\n",
       "ratings_count_stand        1.0\n",
       "text_reviews_coun_stand    1.0\n",
       "dtype: float64"
      ]
     },
     "execution_count": 182,
     "metadata": {},
     "output_type": "execute_result"
    }
   ],
   "source": [
    "np.std(dfS)"
   ]
  },
  {
   "cell_type": "markdown",
   "id": "8fe073d9-2d77-4fa5-9592-635c1d432390",
   "metadata": {},
   "source": [
    "### Data Cleaning\n",
    "## Null\n",
    "> <b> Karna tidak ada yang null maka di buat dengan library random <br> <br>\n",
    "  <b> NOTE : Null akan betambah setiap blok kode di run karna di generate secara acak dengan kemungkinan 10% untuk null. Jika blok kode di run terus menerus       maka semua data akan null <br>"
   ]
  },
  {
   "cell_type": "code",
   "execution_count": 196,
   "id": "024a1af7-234d-4a5e-a1c4-31f7e55e63d7",
   "metadata": {},
   "outputs": [
    {
     "data": {
      "text/html": [
       "<div>\n",
       "<style scoped>\n",
       "    .dataframe tbody tr th:only-of-type {\n",
       "        vertical-align: middle;\n",
       "    }\n",
       "\n",
       "    .dataframe tbody tr th {\n",
       "        vertical-align: top;\n",
       "    }\n",
       "\n",
       "    .dataframe thead th {\n",
       "        text-align: right;\n",
       "    }\n",
       "</style>\n",
       "<table border=\"1\" class=\"dataframe\">\n",
       "  <thead>\n",
       "    <tr style=\"text-align: right;\">\n",
       "      <th></th>\n",
       "      <th>bookID</th>\n",
       "      <th>average_rating</th>\n",
       "      <th>isbn13</th>\n",
       "      <th>num_pages</th>\n",
       "      <th>ratings_count</th>\n",
       "      <th>text_reviews_count</th>\n",
       "    </tr>\n",
       "  </thead>\n",
       "  <tbody>\n",
       "    <tr>\n",
       "      <th>0</th>\n",
       "      <td>1.0</td>\n",
       "      <td>4.57</td>\n",
       "      <td>9.780440e+12</td>\n",
       "      <td>652.0</td>\n",
       "      <td>NaN</td>\n",
       "      <td>NaN</td>\n",
       "    </tr>\n",
       "    <tr>\n",
       "      <th>1</th>\n",
       "      <td>2.0</td>\n",
       "      <td>4.49</td>\n",
       "      <td>9.780439e+12</td>\n",
       "      <td>870.0</td>\n",
       "      <td>2153167.0</td>\n",
       "      <td>29221.0</td>\n",
       "    </tr>\n",
       "    <tr>\n",
       "      <th>2</th>\n",
       "      <td>4.0</td>\n",
       "      <td>NaN</td>\n",
       "      <td>9.780440e+12</td>\n",
       "      <td>352.0</td>\n",
       "      <td>6333.0</td>\n",
       "      <td>244.0</td>\n",
       "    </tr>\n",
       "    <tr>\n",
       "      <th>3</th>\n",
       "      <td>NaN</td>\n",
       "      <td>4.56</td>\n",
       "      <td>9.780440e+12</td>\n",
       "      <td>435.0</td>\n",
       "      <td>NaN</td>\n",
       "      <td>36325.0</td>\n",
       "    </tr>\n",
       "    <tr>\n",
       "      <th>4</th>\n",
       "      <td>8.0</td>\n",
       "      <td>4.78</td>\n",
       "      <td>NaN</td>\n",
       "      <td>2690.0</td>\n",
       "      <td>41428.0</td>\n",
       "      <td>NaN</td>\n",
       "    </tr>\n",
       "  </tbody>\n",
       "</table>\n",
       "</div>"
      ],
      "text/plain": [
       "   bookID  average_rating        isbn13    num_pages  ratings_count  \\\n",
       "0     1.0            4.57  9.780440e+12        652.0            NaN   \n",
       "1     2.0            4.49  9.780439e+12        870.0      2153167.0   \n",
       "2     4.0             NaN  9.780440e+12        352.0         6333.0   \n",
       "3     NaN            4.56  9.780440e+12        435.0            NaN   \n",
       "4     8.0            4.78           NaN       2690.0        41428.0   \n",
       "\n",
       "   text_reviews_count  \n",
       "0                 NaN  \n",
       "1             29221.0  \n",
       "2               244.0  \n",
       "3             36325.0  \n",
       "4                 NaN  "
      ]
     },
     "execution_count": 196,
     "metadata": {},
     "output_type": "execute_result"
    }
   ],
   "source": [
    "import random\n",
    "\n",
    "dfrusak = dfawal.select_dtypes(include='number')\n",
    "\n",
    "ix = [(row, col) for row in range(dfrusak.shape[0]) for col in range(dfrusak.shape[1])]\n",
    "for row, col in random.sample(ix, int(round(.1*len(ix)))):\n",
    "    dfrusak.iat[row, col] = np.nan\n",
    "    \n",
    "dfrusak.head()"
   ]
  },
  {
   "cell_type": "code",
   "execution_count": 197,
   "id": "c565e319-8d5d-4393-8804-250ab2b6c7f1",
   "metadata": {},
   "outputs": [
    {
     "data": {
      "text/plain": [
       "bookID                1100\n",
       "average_rating        1145\n",
       "isbn13                1104\n",
       "  num_pages           1103\n",
       "ratings_count         1146\n",
       "text_reviews_count    1076\n",
       "dtype: int64"
      ]
     },
     "execution_count": 197,
     "metadata": {},
     "output_type": "execute_result"
    }
   ],
   "source": [
    "dfrusak.isna().sum()"
   ]
  },
  {
   "cell_type": "markdown",
   "id": "e722ddd8-502d-49f0-be2e-7a13fae5e890",
   "metadata": {},
   "source": [
    "## Menangani data null\n",
    "### Substitusi nilai null (float dengan strategi mean)\n",
    "> <b> semua value yang kosong akan di isi rata-rata record yang tidak kosong <b>"
   ]
  },
  {
   "cell_type": "code",
   "execution_count": 183,
   "id": "63812db9-2e84-420e-8d64-e6335bbdf9e6",
   "metadata": {},
   "outputs": [
    {
     "data": {
      "text/plain": [
       "bookID                float64\n",
       "average_rating        float64\n",
       "isbn13                float64\n",
       "  num_pages           float64\n",
       "ratings_count         float64\n",
       "text_reviews_count    float64\n",
       "dtype: object"
      ]
     },
     "execution_count": 183,
     "metadata": {},
     "output_type": "execute_result"
    }
   ],
   "source": [
    "dfrusak.dtypes"
   ]
  },
  {
   "cell_type": "code",
   "execution_count": 209,
   "id": "ac2a6092-ccad-46fe-90b9-0b5dbd46bdbf",
   "metadata": {},
   "outputs": [
    {
     "name": "stdout",
     "output_type": "stream",
     "text": [
      "Setelah Data Cleaning : \n",
      "\n"
     ]
    },
    {
     "data": {
      "text/plain": [
       "bookID_stand               0\n",
       "average_rating_stand       0\n",
       "isbn13_stand               0\n",
       "num_pages_stand            0\n",
       "ratings_count_stand        0\n",
       "text_reviews_coun_stand    0\n",
       "dtype: int64"
      ]
     },
     "execution_count": 209,
     "metadata": {},
     "output_type": "execute_result"
    }
   ],
   "source": [
    "from sklearn.impute import SimpleImputer\n",
    "\n",
    "si = SimpleImputer(strategy = \"mean\")\n",
    "arrC = si.fit_transform(dfrusak)\n",
    "dfSub = pd.DataFrame(arrC)\n",
    "dfSub.columns = [\"bookID_stand\", \"average_rating_stand\", \"isbn13_stand\", \"num_pages_stand\", \"ratings_count_stand\", \"text_reviews_coun_stand\"]\n",
    "\n",
    "print(\"Setelah Data Cleaning : \\n\")\n",
    "dfSub.isna().sum()"
   ]
  },
  {
   "cell_type": "code",
   "execution_count": 210,
   "id": "5e7e2dbf-a531-4266-b7de-9e0fa1d931fb",
   "metadata": {},
   "outputs": [
    {
     "data": {
      "text/html": [
       "<div>\n",
       "<style scoped>\n",
       "    .dataframe tbody tr th:only-of-type {\n",
       "        vertical-align: middle;\n",
       "    }\n",
       "\n",
       "    .dataframe tbody tr th {\n",
       "        vertical-align: top;\n",
       "    }\n",
       "\n",
       "    .dataframe thead th {\n",
       "        text-align: right;\n",
       "    }\n",
       "</style>\n",
       "<table border=\"1\" class=\"dataframe\">\n",
       "  <thead>\n",
       "    <tr style=\"text-align: right;\">\n",
       "      <th></th>\n",
       "      <th>bookID_stand</th>\n",
       "      <th>average_rating_stand</th>\n",
       "      <th>isbn13_stand</th>\n",
       "      <th>num_pages_stand</th>\n",
       "      <th>ratings_count_stand</th>\n",
       "      <th>text_reviews_coun_stand</th>\n",
       "    </tr>\n",
       "  </thead>\n",
       "  <tbody>\n",
       "    <tr>\n",
       "      <th>0</th>\n",
       "      <td>1.000000</td>\n",
       "      <td>4.570000</td>\n",
       "      <td>9.780440e+12</td>\n",
       "      <td>652.0</td>\n",
       "      <td>1.758373e+04</td>\n",
       "      <td>545.162337</td>\n",
       "    </tr>\n",
       "    <tr>\n",
       "      <th>1</th>\n",
       "      <td>2.000000</td>\n",
       "      <td>4.490000</td>\n",
       "      <td>9.780439e+12</td>\n",
       "      <td>870.0</td>\n",
       "      <td>2.153167e+06</td>\n",
       "      <td>29221.000000</td>\n",
       "    </tr>\n",
       "    <tr>\n",
       "      <th>2</th>\n",
       "      <td>4.000000</td>\n",
       "      <td>3.934303</td>\n",
       "      <td>9.780440e+12</td>\n",
       "      <td>352.0</td>\n",
       "      <td>6.333000e+03</td>\n",
       "      <td>244.000000</td>\n",
       "    </tr>\n",
       "    <tr>\n",
       "      <th>3</th>\n",
       "      <td>21281.819715</td>\n",
       "      <td>4.560000</td>\n",
       "      <td>9.780440e+12</td>\n",
       "      <td>435.0</td>\n",
       "      <td>1.758373e+04</td>\n",
       "      <td>36325.000000</td>\n",
       "    </tr>\n",
       "    <tr>\n",
       "      <th>4</th>\n",
       "      <td>8.000000</td>\n",
       "      <td>4.780000</td>\n",
       "      <td>9.759449e+12</td>\n",
       "      <td>2690.0</td>\n",
       "      <td>4.142800e+04</td>\n",
       "      <td>545.162337</td>\n",
       "    </tr>\n",
       "  </tbody>\n",
       "</table>\n",
       "</div>"
      ],
      "text/plain": [
       "   bookID_stand  average_rating_stand  isbn13_stand  num_pages_stand  \\\n",
       "0      1.000000              4.570000  9.780440e+12            652.0   \n",
       "1      2.000000              4.490000  9.780439e+12            870.0   \n",
       "2      4.000000              3.934303  9.780440e+12            352.0   \n",
       "3  21281.819715              4.560000  9.780440e+12            435.0   \n",
       "4      8.000000              4.780000  9.759449e+12           2690.0   \n",
       "\n",
       "   ratings_count_stand  text_reviews_coun_stand  \n",
       "0         1.758373e+04               545.162337  \n",
       "1         2.153167e+06             29221.000000  \n",
       "2         6.333000e+03               244.000000  \n",
       "3         1.758373e+04             36325.000000  \n",
       "4         4.142800e+04               545.162337  "
      ]
     },
     "execution_count": 210,
     "metadata": {},
     "output_type": "execute_result"
    }
   ],
   "source": [
    "dfSub.head() "
   ]
  },
  {
   "cell_type": "markdown",
   "id": "6a774cfe-1757-4180-ba0d-01388a8140fb",
   "metadata": {},
   "source": [
    "## Duplikat\n",
    "> <b> Karna tidak ada yang duplikat maka di buat dengan mengulang setiap record"
   ]
  },
  {
   "cell_type": "code",
   "execution_count": 255,
   "id": "c37cdfaf-18d9-4d8a-80e0-69cc021dcf66",
   "metadata": {},
   "outputs": [
    {
     "data": {
      "text/plain": [
       "0        False\n",
       "1        False\n",
       "2        False\n",
       "3        False\n",
       "4        False\n",
       "         ...  \n",
       "22241     True\n",
       "22242     True\n",
       "22243     True\n",
       "22244     True\n",
       "22245     True\n",
       "Length: 22246, dtype: bool"
      ]
     },
     "execution_count": 255,
     "metadata": {},
     "output_type": "execute_result"
    }
   ],
   "source": [
    "dfdupli = pd.concat([dfawal]*2, ignore_index=True)\n",
    "dfdupli.duplicated()"
   ]
  },
  {
   "cell_type": "code",
   "execution_count": 260,
   "id": "aa84e022-3cf9-4c2b-9928-2b9eaa907e5c",
   "metadata": {},
   "outputs": [
    {
     "name": "stdout",
     "output_type": "stream",
     "text": [
      "Jumlah duplikat : \n"
     ]
    },
    {
     "data": {
      "text/plain": [
       "11123"
      ]
     },
     "execution_count": 260,
     "metadata": {},
     "output_type": "execute_result"
    }
   ],
   "source": [
    "print(\"Jumlah duplikat : \")\n",
    "dfdupli.duplicated().sum()"
   ]
  },
  {
   "cell_type": "markdown",
   "id": "fd872756-268d-47ee-ab94-2ffbb0701468",
   "metadata": {},
   "source": [
    "## Menangani Data Duplikat\n",
    "> <b> drop_duplicates <b>|  akan menghapus semua record yang di tambah tadi karna berisikan value yang sama"
   ]
  },
  {
   "cell_type": "code",
   "execution_count": 261,
   "id": "01f92a6c-37b5-4b82-a28a-45bc1a40b206",
   "metadata": {},
   "outputs": [
    {
     "data": {
      "text/plain": [
       "0        False\n",
       "1        False\n",
       "2        False\n",
       "3        False\n",
       "4        False\n",
       "         ...  \n",
       "11118    False\n",
       "11119    False\n",
       "11120    False\n",
       "11121    False\n",
       "11122    False\n",
       "Length: 11123, dtype: bool"
      ]
     },
     "execution_count": 261,
     "metadata": {},
     "output_type": "execute_result"
    }
   ],
   "source": [
    "dfdupli.drop_duplicates(inplace = True)\n",
    "dfdupli.duplicated()"
   ]
  },
  {
   "cell_type": "code",
   "execution_count": 264,
   "id": "56cf3f84-a88c-41da-b489-c20b9a5d9ff8",
   "metadata": {},
   "outputs": [
    {
     "name": "stdout",
     "output_type": "stream",
     "text": [
      "Jumlah duplikat : \n"
     ]
    },
    {
     "data": {
      "text/plain": [
       "0"
      ]
     },
     "execution_count": 264,
     "metadata": {},
     "output_type": "execute_result"
    }
   ],
   "source": [
    "print(\"Jumlah duplikat : \")\n",
    "dfdupli.duplicated().sum()"
   ]
  },
  {
   "cell_type": "markdown",
   "id": "2117d72b-b379-4cf6-ae1f-0f135f5f7d40",
   "metadata": {},
   "source": [
    "## Ubah tipe data salah satu atribut angka\n",
    "> <b> Mengubah tipe data angka menjadi objek"
   ]
  },
  {
   "cell_type": "code",
   "execution_count": 273,
   "id": "d071908d-d58a-43c4-ad7f-9c614289c14c",
   "metadata": {},
   "outputs": [
    {
     "data": {
      "text/plain": [
       "dtype('int64')"
      ]
     },
     "execution_count": 273,
     "metadata": {},
     "output_type": "execute_result"
    }
   ],
   "source": [
    "print(\"Sebelum : \")\n",
    "dfawal[\"isbn13\"].dtypes"
   ]
  },
  {
   "cell_type": "code",
   "execution_count": 275,
   "id": "3c3f775d-18e7-430d-8605-4d14c55ab23c",
   "metadata": {},
   "outputs": [
    {
     "name": "stdout",
     "output_type": "stream",
     "text": [
      "Sesudah : \n"
     ]
    },
    {
     "data": {
      "text/plain": [
       "dtype('O')"
      ]
     },
     "execution_count": 275,
     "metadata": {},
     "output_type": "execute_result"
    }
   ],
   "source": [
    "print(\"Sesudah : \")\n",
    "dfubah = dfawal[[\"isbn13\"]].astype(\"object\")\n",
    "dfubah[\"isbn13\"].dtypes"
   ]
  },
  {
   "cell_type": "markdown",
   "id": "44296b75-9b51-4869-9006-ef22a014d7ed",
   "metadata": {},
   "source": [
    "## One Hot Encoding\n",
    "> <b> Kategori yang akan di encoding adalah \"language_code\" dengan 27 kategori"
   ]
  },
  {
   "cell_type": "code",
   "execution_count": 327,
   "id": "0d1f50f0-c4aa-41b3-a68f-6112bd278856",
   "metadata": {},
   "outputs": [
    {
     "data": {
      "text/html": [
       "<div>\n",
       "<style scoped>\n",
       "    .dataframe tbody tr th:only-of-type {\n",
       "        vertical-align: middle;\n",
       "    }\n",
       "\n",
       "    .dataframe tbody tr th {\n",
       "        vertical-align: top;\n",
       "    }\n",
       "\n",
       "    .dataframe thead th {\n",
       "        text-align: right;\n",
       "    }\n",
       "</style>\n",
       "<table border=\"1\" class=\"dataframe\">\n",
       "  <thead>\n",
       "    <tr style=\"text-align: right;\">\n",
       "      <th></th>\n",
       "      <th>bookID</th>\n",
       "      <th>title</th>\n",
       "      <th>authors</th>\n",
       "      <th>average_rating</th>\n",
       "      <th>isbn</th>\n",
       "      <th>isbn13</th>\n",
       "      <th>language_code</th>\n",
       "      <th>num_pages</th>\n",
       "      <th>ratings_count</th>\n",
       "      <th>text_reviews_count</th>\n",
       "      <th>...</th>\n",
       "      <th>srp</th>\n",
       "      <th>nl</th>\n",
       "      <th>msa</th>\n",
       "      <th>glg</th>\n",
       "      <th>wel</th>\n",
       "      <th>ara</th>\n",
       "      <th>nor</th>\n",
       "      <th>tur</th>\n",
       "      <th>gla</th>\n",
       "      <th>ale</th>\n",
       "    </tr>\n",
       "  </thead>\n",
       "  <tbody>\n",
       "    <tr>\n",
       "      <th>0</th>\n",
       "      <td>1</td>\n",
       "      <td>Harry Potter and the Half-Blood Prince (Harry ...</td>\n",
       "      <td>J.K. Rowling/Mary GrandPré</td>\n",
       "      <td>4.57</td>\n",
       "      <td>0439785960</td>\n",
       "      <td>9780439785969</td>\n",
       "      <td>eng</td>\n",
       "      <td>652</td>\n",
       "      <td>2095690</td>\n",
       "      <td>27591</td>\n",
       "      <td>...</td>\n",
       "      <td>0.0</td>\n",
       "      <td>0.0</td>\n",
       "      <td>0.0</td>\n",
       "      <td>0.0</td>\n",
       "      <td>0.0</td>\n",
       "      <td>0.0</td>\n",
       "      <td>0.0</td>\n",
       "      <td>0.0</td>\n",
       "      <td>0.0</td>\n",
       "      <td>0.0</td>\n",
       "    </tr>\n",
       "    <tr>\n",
       "      <th>1</th>\n",
       "      <td>2</td>\n",
       "      <td>Harry Potter and the Order of the Phoenix (Har...</td>\n",
       "      <td>J.K. Rowling/Mary GrandPré</td>\n",
       "      <td>4.49</td>\n",
       "      <td>0439358078</td>\n",
       "      <td>9780439358071</td>\n",
       "      <td>eng</td>\n",
       "      <td>870</td>\n",
       "      <td>2153167</td>\n",
       "      <td>29221</td>\n",
       "      <td>...</td>\n",
       "      <td>0.0</td>\n",
       "      <td>0.0</td>\n",
       "      <td>0.0</td>\n",
       "      <td>0.0</td>\n",
       "      <td>0.0</td>\n",
       "      <td>0.0</td>\n",
       "      <td>0.0</td>\n",
       "      <td>0.0</td>\n",
       "      <td>0.0</td>\n",
       "      <td>0.0</td>\n",
       "    </tr>\n",
       "    <tr>\n",
       "      <th>2</th>\n",
       "      <td>4</td>\n",
       "      <td>Harry Potter and the Chamber of Secrets (Harry...</td>\n",
       "      <td>J.K. Rowling</td>\n",
       "      <td>4.42</td>\n",
       "      <td>0439554896</td>\n",
       "      <td>9780439554893</td>\n",
       "      <td>eng</td>\n",
       "      <td>352</td>\n",
       "      <td>6333</td>\n",
       "      <td>244</td>\n",
       "      <td>...</td>\n",
       "      <td>0.0</td>\n",
       "      <td>0.0</td>\n",
       "      <td>0.0</td>\n",
       "      <td>0.0</td>\n",
       "      <td>0.0</td>\n",
       "      <td>0.0</td>\n",
       "      <td>0.0</td>\n",
       "      <td>0.0</td>\n",
       "      <td>0.0</td>\n",
       "      <td>0.0</td>\n",
       "    </tr>\n",
       "    <tr>\n",
       "      <th>3</th>\n",
       "      <td>5</td>\n",
       "      <td>Harry Potter and the Prisoner of Azkaban (Harr...</td>\n",
       "      <td>J.K. Rowling/Mary GrandPré</td>\n",
       "      <td>4.56</td>\n",
       "      <td>043965548X</td>\n",
       "      <td>9780439655484</td>\n",
       "      <td>eng</td>\n",
       "      <td>435</td>\n",
       "      <td>2339585</td>\n",
       "      <td>36325</td>\n",
       "      <td>...</td>\n",
       "      <td>0.0</td>\n",
       "      <td>0.0</td>\n",
       "      <td>0.0</td>\n",
       "      <td>0.0</td>\n",
       "      <td>0.0</td>\n",
       "      <td>0.0</td>\n",
       "      <td>0.0</td>\n",
       "      <td>0.0</td>\n",
       "      <td>0.0</td>\n",
       "      <td>0.0</td>\n",
       "    </tr>\n",
       "    <tr>\n",
       "      <th>4</th>\n",
       "      <td>8</td>\n",
       "      <td>Harry Potter Boxed Set  Books 1-5 (Harry Potte...</td>\n",
       "      <td>J.K. Rowling/Mary GrandPré</td>\n",
       "      <td>4.78</td>\n",
       "      <td>0439682584</td>\n",
       "      <td>9780439682589</td>\n",
       "      <td>eng</td>\n",
       "      <td>2690</td>\n",
       "      <td>41428</td>\n",
       "      <td>164</td>\n",
       "      <td>...</td>\n",
       "      <td>0.0</td>\n",
       "      <td>0.0</td>\n",
       "      <td>0.0</td>\n",
       "      <td>0.0</td>\n",
       "      <td>0.0</td>\n",
       "      <td>0.0</td>\n",
       "      <td>0.0</td>\n",
       "      <td>0.0</td>\n",
       "      <td>0.0</td>\n",
       "      <td>0.0</td>\n",
       "    </tr>\n",
       "  </tbody>\n",
       "</table>\n",
       "<p>5 rows × 39 columns</p>\n",
       "</div>"
      ],
      "text/plain": [
       "   bookID                                              title  \\\n",
       "0       1  Harry Potter and the Half-Blood Prince (Harry ...   \n",
       "1       2  Harry Potter and the Order of the Phoenix (Har...   \n",
       "2       4  Harry Potter and the Chamber of Secrets (Harry...   \n",
       "3       5  Harry Potter and the Prisoner of Azkaban (Harr...   \n",
       "4       8  Harry Potter Boxed Set  Books 1-5 (Harry Potte...   \n",
       "\n",
       "                      authors  average_rating        isbn         isbn13  \\\n",
       "0  J.K. Rowling/Mary GrandPré            4.57  0439785960  9780439785969   \n",
       "1  J.K. Rowling/Mary GrandPré            4.49  0439358078  9780439358071   \n",
       "2                J.K. Rowling            4.42  0439554896  9780439554893   \n",
       "3  J.K. Rowling/Mary GrandPré            4.56  043965548X  9780439655484   \n",
       "4  J.K. Rowling/Mary GrandPré            4.78  0439682584  9780439682589   \n",
       "\n",
       "  language_code    num_pages  ratings_count  text_reviews_count  ...  srp  \\\n",
       "0           eng          652        2095690               27591  ...  0.0   \n",
       "1           eng          870        2153167               29221  ...  0.0   \n",
       "2           eng          352           6333                 244  ...  0.0   \n",
       "3           eng          435        2339585               36325  ...  0.0   \n",
       "4           eng         2690          41428                 164  ...  0.0   \n",
       "\n",
       "    nl  msa  glg  wel  ara  nor  tur  gla  ale  \n",
       "0  0.0  0.0  0.0  0.0  0.0  0.0  0.0  0.0  0.0  \n",
       "1  0.0  0.0  0.0  0.0  0.0  0.0  0.0  0.0  0.0  \n",
       "2  0.0  0.0  0.0  0.0  0.0  0.0  0.0  0.0  0.0  \n",
       "3  0.0  0.0  0.0  0.0  0.0  0.0  0.0  0.0  0.0  \n",
       "4  0.0  0.0  0.0  0.0  0.0  0.0  0.0  0.0  0.0  \n",
       "\n",
       "[5 rows x 39 columns]"
      ]
     },
     "execution_count": 327,
     "metadata": {},
     "output_type": "execute_result"
    }
   ],
   "source": [
    "from sklearn.preprocessing import OneHotEncoder\n",
    "\n",
    "#untuk penamaan kolom ketegori onehotencoding\n",
    "data_lang = dfawal[\"language_code\"].value_counts().rename_axis(\"language_code\").reset_index(name=\"count\")\n",
    "czip = zip(data_lang[\"language_code\"])\n",
    "cname = [nama_kategori[0] for nama_kategori in list(czip)]\n",
    "\n",
    "#Encoding\n",
    "ohe = OneHotEncoder(sparse=False)\n",
    "arr_ohe = ohe.fit_transform(dfawal[[\"language_code\"]])\n",
    "\n",
    "dfH = pd.DataFrame(arr_ohe)\n",
    "dfH.columns = cname\n",
    "dfH = dfawal.join(dfH)\n",
    "\n",
    "dfH.head()"
   ]
  }
 ],
 "metadata": {
  "kernelspec": {
   "display_name": "tito_042",
   "language": "python",
   "name": "tito_042"
  },
  "language_info": {
   "codemirror_mode": {
    "name": "ipython",
    "version": 3
   },
   "file_extension": ".py",
   "mimetype": "text/x-python",
   "name": "python",
   "nbconvert_exporter": "python",
   "pygments_lexer": "ipython3",
   "version": "3.10.7"
  }
 },
 "nbformat": 4,
 "nbformat_minor": 5
}
