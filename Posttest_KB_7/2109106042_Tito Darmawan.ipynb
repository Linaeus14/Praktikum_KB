{
 "cells": [
  {
   "cell_type": "markdown",
   "id": "6529cda8-f9b5-4fa0-870c-7b329633c92a",
   "metadata": {
    "tags": []
   },
   "source": [
    "# POSTTEST7 - Tensorflow"
   ]
  },
  {
   "cell_type": "markdown",
   "id": "5fda21ab-8c29-4714-ad2a-c8688053a398",
   "metadata": {},
   "source": [
    "><p> Nama : Tito Darmawan <br> NIM : 2109106042 <br> Dataset : </p>"
   ]
  },
  {
   "cell_type": "markdown",
   "id": "32186844-ffea-4763-882c-a37385e932e0",
   "metadata": {},
   "source": [
    "## Import"
   ]
  },
  {
   "cell_type": "code",
   "execution_count": 2,
   "id": "8e380002-367d-4a19-a2ff-15a4d6606852",
   "metadata": {},
   "outputs": [],
   "source": [
    "import tensorflow as tf"
   ]
  },
  {
   "cell_type": "markdown",
   "id": "c4e45e8b-5483-4e6a-be89-edb53446b6a4",
   "metadata": {},
   "source": [
    "## Pembuatan Tensorflow Random"
   ]
  },
  {
   "cell_type": "code",
   "execution_count": 3,
   "id": "923dbca9-87b8-49f3-a276-696dadcd5304",
   "metadata": {},
   "outputs": [],
   "source": [
    "random_tensor = tf.random.normal([5,5], dtype=tf.float32)"
   ]
  },
  {
   "cell_type": "markdown",
   "id": "23c571eb-dca4-48d1-849a-e180becf084c",
   "metadata": {},
   "source": [
    "## Pembuatan Tensor dari List bilangan prima"
   ]
  },
  {
   "cell_type": "code",
   "execution_count": 4,
   "id": "df3677ba-fe06-418f-9e51-23410223e74d",
   "metadata": {},
   "outputs": [],
   "source": [
    "list_ = [2, 3, 5, 7, 11, 13, 17, 19, 23, 29, 31, 37, 41, 43, 47, 53, 59, 61, 71, 73, 79, 83, 89, 97, 101]\n",
    "prime_tensor = tf.convert_to_tensor(list_, dtype=tf.float32)\n",
    "prime_tensor = tf.reshape(prime_tensor, [5, 5])"
   ]
  },
  {
   "cell_type": "markdown",
   "id": "62e06f46-e4f8-4b2e-8eb1-2f7b85d989b4",
   "metadata": {},
   "source": [
    "## Dimensi Kedua Tensorflow di atas"
   ]
  },
  {
   "cell_type": "code",
   "execution_count": 5,
   "id": "461aa6b7-23d8-4056-b61a-50bbd4934665",
   "metadata": {},
   "outputs": [
    {
     "name": "stdout",
     "output_type": "stream",
     "text": [
      "Random : \n"
     ]
    },
    {
     "data": {
      "text/plain": [
       "<bound method _EagerTensorBase.get_shape of <tf.Tensor: shape=(5, 5), dtype=float32, numpy=\n",
       "array([[-0.2903652 , -0.4766557 , -0.13242021,  1.7611532 ,  0.54819685],\n",
       "       [ 0.790303  ,  0.00342993, -1.122631  ,  1.4143972 , -0.5654473 ],\n",
       "       [ 1.3196427 , -1.6820697 , -0.5403496 ,  1.0782737 ,  1.0625372 ],\n",
       "       [ 0.93798256, -1.9280267 , -0.69105184,  0.9910845 , -0.95426226],\n",
       "       [-1.6997303 ,  1.1535716 ,  0.36433014,  0.8607499 , -0.82094795]],\n",
       "      dtype=float32)>>"
      ]
     },
     "execution_count": 5,
     "metadata": {},
     "output_type": "execute_result"
    }
   ],
   "source": [
    "print(\"Random : \")\n",
    "random_tensor.get_shape"
   ]
  },
  {
   "cell_type": "code",
   "execution_count": 6,
   "id": "12d5a6a4-b366-4f99-836d-5a4e0c3fe3a0",
   "metadata": {},
   "outputs": [
    {
     "name": "stdout",
     "output_type": "stream",
     "text": [
      "Prime : \n"
     ]
    },
    {
     "data": {
      "text/plain": [
       "<bound method _EagerTensorBase.get_shape of <tf.Tensor: shape=(5, 5), dtype=float32, numpy=\n",
       "array([[  2.,   3.,   5.,   7.,  11.],\n",
       "       [ 13.,  17.,  19.,  23.,  29.],\n",
       "       [ 31.,  37.,  41.,  43.,  47.],\n",
       "       [ 53.,  59.,  61.,  71.,  73.],\n",
       "       [ 79.,  83.,  89.,  97., 101.]], dtype=float32)>>"
      ]
     },
     "execution_count": 6,
     "metadata": {},
     "output_type": "execute_result"
    }
   ],
   "source": [
    "print(\"Prime : \")\n",
    "prime_tensor.get_shape"
   ]
  },
  {
   "cell_type": "markdown",
   "id": "7df26ebd-c1e0-4d39-b0ca-c67646131ba0",
   "metadata": {},
   "source": [
    "## 5 Operasi Aritmatika Tensorflow\n",
    "### 1. Tambah"
   ]
  },
  {
   "cell_type": "code",
   "execution_count": 7,
   "id": "98842207-f1c8-4798-a5bc-35bdc47213d2",
   "metadata": {},
   "outputs": [
    {
     "name": "stdout",
     "output_type": "stream",
     "text": [
      "Hasil Penambahan tensor random dan prime :\n",
      "tf.Tensor(\n",
      "[[  1.7096348   2.5233443   4.86758     8.761153   11.548197 ]\n",
      " [ 13.790303   17.00343    17.877369   24.414398   28.434553 ]\n",
      " [ 32.31964    35.317932   40.459652   44.078274   48.06254  ]\n",
      " [ 53.93798    57.07197    60.30895    71.99108    72.04574  ]\n",
      " [ 77.30027    84.15357    89.36433    97.86075   100.179054 ]], shape=(5, 5), dtype=float32)\n"
     ]
    }
   ],
   "source": [
    "Add = random_tensor + prime_tensor\n",
    "print(\"Hasil Penambahan tensor random dan prime :\")\n",
    "print(Add)"
   ]
  },
  {
   "cell_type": "markdown",
   "id": "32f0223b-c4a7-4429-8951-d3eb631e4dba",
   "metadata": {},
   "source": [
    "### 2. Kurang"
   ]
  },
  {
   "cell_type": "code",
   "execution_count": 8,
   "id": "e46119d1-df28-40bf-a680-ff35b7b3d9dd",
   "metadata": {},
   "outputs": [
    {
     "name": "stdout",
     "output_type": "stream",
     "text": [
      "Hasil Pengurangan tensor random dan prime :\n",
      "tf.Tensor(\n",
      "[[  -2.2903652   -3.4766557   -5.13242     -5.238847   -10.451803 ]\n",
      " [ -12.209697   -16.99657    -20.122631   -21.585602   -29.565447 ]\n",
      " [ -29.680357   -38.682068   -41.540348   -41.921726   -45.93746  ]\n",
      " [ -52.06202    -60.92803    -61.69105    -70.00892    -73.95426  ]\n",
      " [ -80.69973    -81.84643    -88.63567    -96.13925   -101.820946 ]], shape=(5, 5), dtype=float32)\n"
     ]
    }
   ],
   "source": [
    "Subtract = random_tensor - prime_tensor\n",
    "print(\"Hasil Pengurangan tensor random dan prime :\")\n",
    "print(Subtract)"
   ]
  },
  {
   "cell_type": "markdown",
   "id": "6016483b-2827-46de-9e18-5db3ce4ff180",
   "metadata": {},
   "source": [
    "### 3. Kali"
   ]
  },
  {
   "cell_type": "code",
   "execution_count": 9,
   "id": "320a2aaf-65a3-4071-bfb8-972ab351394d",
   "metadata": {},
   "outputs": [
    {
     "name": "stdout",
     "output_type": "stream",
     "text": [
      "Hasil Pengalian tensor random dan prime :\n",
      "tf.Tensor(\n",
      "[[-5.8073038e-01 -1.4299670e+00 -6.6210103e-01  1.2328073e+01\n",
      "   6.0301652e+00]\n",
      " [ 1.0273939e+01  5.8308728e-02 -2.1329988e+01  3.2531136e+01\n",
      "  -1.6397970e+01]\n",
      " [ 4.0908924e+01 -6.2236576e+01 -2.2154333e+01  4.6365768e+01\n",
      "   4.9939247e+01]\n",
      " [ 4.9713074e+01 -1.1375357e+02 -4.2154163e+01  7.0367004e+01\n",
      "  -6.9661148e+01]\n",
      " [-1.3427869e+02  9.5746445e+01  3.2425385e+01  8.3492737e+01\n",
      "  -8.2915741e+01]], shape=(5, 5), dtype=float32)\n"
     ]
    }
   ],
   "source": [
    "Multiply = random_tensor * prime_tensor\n",
    "print(\"Hasil Pengalian tensor random dan prime :\")\n",
    "print(Multiply)"
   ]
  },
  {
   "cell_type": "markdown",
   "id": "267ad759-c133-49f4-8a40-a4a8bfb95453",
   "metadata": {},
   "source": [
    "### 4. Bagi"
   ]
  },
  {
   "cell_type": "code",
   "execution_count": 10,
   "id": "947e9a6a-8904-4f6a-8366-b5dd4e8a2386",
   "metadata": {},
   "outputs": [
    {
     "name": "stdout",
     "output_type": "stream",
     "text": [
      "Hasil Pengalian tensor random dan prime :\n",
      "tf.Tensor(\n",
      "[[-1.4518259e-01 -1.5888523e-01 -2.6484042e-02  2.5159332e-01\n",
      "   4.9836077e-02]\n",
      " [ 6.0792539e-02  2.0176030e-04 -5.9085838e-02  6.1495531e-02\n",
      "  -1.9498182e-02]\n",
      " [ 4.2569119e-02 -4.5461342e-02 -1.3179258e-02  2.5076132e-02\n",
      "   2.2607174e-02]\n",
      " [ 1.7697785e-02 -3.2678418e-02 -1.1328719e-02  1.3958937e-02\n",
      "  -1.3072086e-02]\n",
      " [-2.1515572e-02  1.3898453e-02  4.0935972e-03  8.8737104e-03\n",
      "  -8.1281979e-03]], shape=(5, 5), dtype=float32)\n"
     ]
    }
   ],
   "source": [
    "Divide = random_tensor / prime_tensor\n",
    "print(\"Hasil Pengalian tensor random dan prime :\")\n",
    "print(Divide)"
   ]
  },
  {
   "cell_type": "markdown",
   "id": "3621a687-deae-4a7a-b1e4-928beabfbc74",
   "metadata": {},
   "source": [
    "### 5. Pangkat"
   ]
  },
  {
   "cell_type": "code",
   "execution_count": 11,
   "id": "0fcffd01-a459-4a96-b416-1641eae8d10d",
   "metadata": {},
   "outputs": [
    {
     "name": "stdout",
     "output_type": "stream",
     "text": [
      "Hasil elemen tensor random pangkat elemen tensor prime :\n",
      "tf.Tensor(\n",
      "[[ 8.43119398e-02 -1.08296484e-01 -4.07165899e-05  5.25508804e+01\n",
      "   1.34369871e-03]\n",
      " [ 4.69155870e-02  0.00000000e+00 -9.00540447e+00  2.90497363e+03\n",
      "  -6.59737651e-08]\n",
      " [ 5.42184082e+03 -2.27105248e+08 -1.09564103e-11  2.55474014e+01\n",
      "   1.73051205e+01]\n",
      " [ 3.35986987e-02 -6.63237783e+16 -1.62236405e-10  5.29491603e-01\n",
      "  -3.27903107e-02]\n",
      " [-1.58496924e+18  1.41155656e+05  0.00000000e+00  4.82022358e-07\n",
      "  -2.21757146e-09]], shape=(5, 5), dtype=float32)\n"
     ]
    }
   ],
   "source": [
    "Divide = random_tensor ** prime_tensor\n",
    "print(\"Hasil elemen tensor random pangkat elemen tensor prime :\")\n",
    "print(Divide)"
   ]
  },
  {
   "cell_type": "markdown",
   "id": "ce273cd1-91fd-4543-b40c-099a14ff5c3b",
   "metadata": {},
   "source": [
    "## Nilai Max dan Min dari Tensor Random"
   ]
  },
  {
   "cell_type": "code",
   "execution_count": 18,
   "id": "a0bd7e43-9f15-4dec-862e-c23f9b4dc894",
   "metadata": {},
   "outputs": [
    {
     "name": "stdout",
     "output_type": "stream",
     "text": [
      "Max :\n"
     ]
    },
    {
     "data": {
      "text/plain": [
       "1.7611532"
      ]
     },
     "execution_count": 18,
     "metadata": {},
     "output_type": "execute_result"
    }
   ],
   "source": [
    "print(\"Max :\")\n",
    "tf.math.reduce_max(random_tensor).numpy()"
   ]
  },
  {
   "cell_type": "code",
   "execution_count": 20,
   "id": "e34324b0-4738-4cae-97ee-c6f1687db740",
   "metadata": {},
   "outputs": [
    {
     "name": "stdout",
     "output_type": "stream",
     "text": [
      "Min :\n"
     ]
    },
    {
     "data": {
      "text/plain": [
       "-1.9280267"
      ]
     },
     "execution_count": 20,
     "metadata": {},
     "output_type": "execute_result"
    }
   ],
   "source": [
    "print(\"Min :\")\n",
    "tf.math.reduce_min(random_tensor).numpy()"
   ]
  },
  {
   "cell_type": "markdown",
   "id": "28e1200c-eb5a-4b4f-8514-7c204222b2c1",
   "metadata": {},
   "source": [
    "## Penggabungan variable random_tensor dengan prime_tensor"
   ]
  },
  {
   "cell_type": "code",
   "execution_count": 23,
   "id": "ed952c76-762b-4b74-886e-4b8ca10f94b0",
   "metadata": {},
   "outputs": [
    {
     "name": "stdout",
     "output_type": "stream",
     "text": [
      "Concat Axis 0 :\n"
     ]
    },
    {
     "data": {
      "text/plain": [
       "<tf.Tensor: shape=(10, 5), dtype=float32, numpy=\n",
       "array([[-2.9036519e-01, -4.7665569e-01, -1.3242021e-01,  1.7611532e+00,\n",
       "         5.4819685e-01],\n",
       "       [ 7.9030299e-01,  3.4299251e-03, -1.1226310e+00,  1.4143972e+00,\n",
       "        -5.6544727e-01],\n",
       "       [ 1.3196427e+00, -1.6820697e+00, -5.4034960e-01,  1.0782737e+00,\n",
       "         1.0625372e+00],\n",
       "       [ 9.3798256e-01, -1.9280267e+00, -6.9105184e-01,  9.9108452e-01,\n",
       "        -9.5426226e-01],\n",
       "       [-1.6997303e+00,  1.1535716e+00,  3.6433014e-01,  8.6074990e-01,\n",
       "        -8.2094795e-01],\n",
       "       [ 2.0000000e+00,  3.0000000e+00,  5.0000000e+00,  7.0000000e+00,\n",
       "         1.1000000e+01],\n",
       "       [ 1.3000000e+01,  1.7000000e+01,  1.9000000e+01,  2.3000000e+01,\n",
       "         2.9000000e+01],\n",
       "       [ 3.1000000e+01,  3.7000000e+01,  4.1000000e+01,  4.3000000e+01,\n",
       "         4.7000000e+01],\n",
       "       [ 5.3000000e+01,  5.9000000e+01,  6.1000000e+01,  7.1000000e+01,\n",
       "         7.3000000e+01],\n",
       "       [ 7.9000000e+01,  8.3000000e+01,  8.9000000e+01,  9.7000000e+01,\n",
       "         1.0100000e+02]], dtype=float32)>"
      ]
     },
     "execution_count": 23,
     "metadata": {},
     "output_type": "execute_result"
    }
   ],
   "source": [
    "print(\"Concat Axis 0 :\")\n",
    "tf.concat([random_tensor, prime_tensor], axis=0)"
   ]
  },
  {
   "cell_type": "code",
   "execution_count": 25,
   "id": "fd2ea0c2-9a61-4414-be25-67fa0bfda57c",
   "metadata": {},
   "outputs": [
    {
     "name": "stdout",
     "output_type": "stream",
     "text": [
      "Concat Axis 1 :\n"
     ]
    },
    {
     "data": {
      "text/plain": [
       "<tf.Tensor: shape=(5, 10), dtype=float32, numpy=\n",
       "array([[-2.9036519e-01, -4.7665569e-01, -1.3242021e-01,  1.7611532e+00,\n",
       "         5.4819685e-01,  2.0000000e+00,  3.0000000e+00,  5.0000000e+00,\n",
       "         7.0000000e+00,  1.1000000e+01],\n",
       "       [ 7.9030299e-01,  3.4299251e-03, -1.1226310e+00,  1.4143972e+00,\n",
       "        -5.6544727e-01,  1.3000000e+01,  1.7000000e+01,  1.9000000e+01,\n",
       "         2.3000000e+01,  2.9000000e+01],\n",
       "       [ 1.3196427e+00, -1.6820697e+00, -5.4034960e-01,  1.0782737e+00,\n",
       "         1.0625372e+00,  3.1000000e+01,  3.7000000e+01,  4.1000000e+01,\n",
       "         4.3000000e+01,  4.7000000e+01],\n",
       "       [ 9.3798256e-01, -1.9280267e+00, -6.9105184e-01,  9.9108452e-01,\n",
       "        -9.5426226e-01,  5.3000000e+01,  5.9000000e+01,  6.1000000e+01,\n",
       "         7.1000000e+01,  7.3000000e+01],\n",
       "       [-1.6997303e+00,  1.1535716e+00,  3.6433014e-01,  8.6074990e-01,\n",
       "        -8.2094795e-01,  7.9000000e+01,  8.3000000e+01,  8.9000000e+01,\n",
       "         9.7000000e+01,  1.0100000e+02]], dtype=float32)>"
      ]
     },
     "execution_count": 25,
     "metadata": {},
     "output_type": "execute_result"
    }
   ],
   "source": [
    "print(\"Concat Axis 1 :\")\n",
    "tf.concat([random_tensor, prime_tensor], axis=1)"
   ]
  },
  {
   "cell_type": "markdown",
   "id": "14fed1ea-d4aa-4417-b43c-598e97ceea40",
   "metadata": {},
   "source": [
    "## Sorting 2 Variabel diatas secara descending"
   ]
  },
  {
   "cell_type": "code",
   "execution_count": 30,
   "id": "167122e1-04b1-4223-9491-b8ad668fd3ea",
   "metadata": {},
   "outputs": [
    {
     "name": "stdout",
     "output_type": "stream",
     "text": [
      "random_tensor sort desc :\n"
     ]
    },
    {
     "data": {
      "text/plain": [
       "<tf.Tensor: shape=(5, 5), dtype=float32, numpy=\n",
       "array([[ 1.7611532 ,  0.54819685, -0.13242021, -0.2903652 , -0.4766557 ],\n",
       "       [ 1.4143972 ,  0.790303  ,  0.00342993, -0.5654473 , -1.122631  ],\n",
       "       [ 1.3196427 ,  1.0782737 ,  1.0625372 , -0.5403496 , -1.6820697 ],\n",
       "       [ 0.9910845 ,  0.93798256, -0.69105184, -0.95426226, -1.9280267 ],\n",
       "       [ 1.1535716 ,  0.8607499 ,  0.36433014, -0.82094795, -1.6997303 ]],\n",
       "      dtype=float32)>"
      ]
     },
     "execution_count": 30,
     "metadata": {},
     "output_type": "execute_result"
    }
   ],
   "source": [
    "print(\"random_tensor sort desc :\")\n",
    "tf.sort(random_tensor, direction=\"DESCENDING\")"
   ]
  },
  {
   "cell_type": "code",
   "execution_count": 29,
   "id": "a3179c1a-f54f-4853-ba3f-f21a25f5a9ea",
   "metadata": {},
   "outputs": [
    {
     "name": "stdout",
     "output_type": "stream",
     "text": [
      "prime_tensor sort desc :\n"
     ]
    },
    {
     "data": {
      "text/plain": [
       "<tf.Tensor: shape=(5, 5), dtype=float32, numpy=\n",
       "array([[ 11.,   7.,   5.,   3.,   2.],\n",
       "       [ 29.,  23.,  19.,  17.,  13.],\n",
       "       [ 47.,  43.,  41.,  37.,  31.],\n",
       "       [ 73.,  71.,  61.,  59.,  53.],\n",
       "       [101.,  97.,  89.,  83.,  79.]], dtype=float32)>"
      ]
     },
     "execution_count": 29,
     "metadata": {},
     "output_type": "execute_result"
    }
   ],
   "source": [
    "print(\"prime_tensor sort desc :\")\n",
    "tf.sort(prime_tensor, direction=\"DESCENDING\")"
   ]
  }
 ],
 "metadata": {
  "kernelspec": {
   "display_name": "tito_042",
   "language": "python",
   "name": "tito_042"
  },
  "language_info": {
   "codemirror_mode": {
    "name": "ipython",
    "version": 3
   },
   "file_extension": ".py",
   "mimetype": "text/x-python",
   "name": "python",
   "nbconvert_exporter": "python",
   "pygments_lexer": "ipython3",
   "version": "3.10.7"
  }
 },
 "nbformat": 4,
 "nbformat_minor": 5
}
